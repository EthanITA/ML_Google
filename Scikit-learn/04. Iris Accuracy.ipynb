{
 "cells": [
  {
   "cell_type": "code",
   "execution_count": null,
   "metadata": {},
   "outputs": [],
   "source": [
    "'''\n",
    "An approach to test if the model works well is to partition\n",
    "our dataset into two parts:\n",
    "- Train: train our model\n",
    "- Test: see how accurate it is on new data\n",
    "'''"
   ]
  },
  {
   "cell_type": "code",
   "execution_count": 1,
   "metadata": {},
   "outputs": [],
   "source": [
    "from sklearn import datasets"
   ]
  },
  {
   "cell_type": "code",
   "execution_count": 2,
   "metadata": {},
   "outputs": [],
   "source": [
    "iris = datasets.load_iris()\n",
    "\n",
    "x = iris.data\n",
    "y = iris.target"
   ]
  },
  {
   "cell_type": "code",
   "execution_count": 3,
   "metadata": {},
   "outputs": [],
   "source": [
    "from sklearn.model_selection import train_test_split\n",
    "\n",
    "# test_size = 0.5 means half of the dataset will be for train\n",
    "# and the other half for test\n",
    "x_train, x_test, y_train, y_test = train_test_split(\n",
    "    x, y, test_size = .5)"
   ]
  },
  {
   "cell_type": "code",
   "execution_count": 4,
   "metadata": {
    "scrolled": true
   },
   "outputs": [
    {
     "name": "stdout",
     "output_type": "stream",
     "text": [
      "Example 0: correct (pred=0 - test=0)\n",
      "Example 1: correct (pred=0 - test=0)\n",
      "Example 2: correct (pred=2 - test=2)\n",
      "Example 3: correct (pred=0 - test=0)\n",
      "Example 4: correct (pred=0 - test=0)\n",
      "Example 5: correct (pred=0 - test=0)\n",
      "Example 6: correct (pred=0 - test=0)\n",
      "Example 7: correct (pred=0 - test=0)\n",
      "Example 8: correct (pred=0 - test=0)\n",
      "Example 9: \u001b[1;31;47mwrong (pred=1 - test=2)\u001b[0m\n",
      "Example 10: correct (pred=1 - test=1)\n",
      "Example 11: correct (pred=1 - test=1)\n",
      "Example 12: correct (pred=1 - test=1)\n",
      "Example 13: correct (pred=2 - test=2)\n",
      "Example 14: correct (pred=0 - test=0)\n",
      "Example 15: correct (pred=1 - test=1)\n",
      "Example 16: correct (pred=0 - test=0)\n",
      "Example 17: correct (pred=0 - test=0)\n",
      "Example 18: correct (pred=0 - test=0)\n",
      "Example 19: correct (pred=1 - test=1)\n",
      "Example 20: correct (pred=0 - test=0)\n",
      "Example 21: correct (pred=2 - test=2)\n",
      "Example 22: correct (pred=1 - test=1)\n",
      "Example 23: correct (pred=0 - test=0)\n",
      "Example 24: correct (pred=1 - test=1)\n",
      "Example 25: correct (pred=0 - test=0)\n",
      "Example 26: correct (pred=1 - test=1)\n",
      "Example 27: correct (pred=0 - test=0)\n",
      "Example 28: correct (pred=1 - test=1)\n",
      "Example 29: correct (pred=2 - test=2)\n",
      "Example 30: correct (pred=2 - test=2)\n",
      "Example 31: correct (pred=0 - test=0)\n",
      "Example 32: correct (pred=1 - test=1)\n",
      "Example 33: correct (pred=2 - test=2)\n",
      "Example 34: correct (pred=2 - test=2)\n",
      "Example 35: correct (pred=1 - test=1)\n",
      "Example 36: correct (pred=2 - test=2)\n",
      "Example 37: correct (pred=2 - test=2)\n",
      "Example 38: correct (pred=1 - test=1)\n",
      "Example 39: correct (pred=1 - test=1)\n",
      "Example 40: correct (pred=0 - test=0)\n",
      "Example 41: correct (pred=1 - test=1)\n",
      "Example 42: correct (pred=0 - test=0)\n",
      "Example 43: correct (pred=2 - test=2)\n",
      "Example 44: correct (pred=1 - test=1)\n",
      "Example 45: correct (pred=0 - test=0)\n",
      "Example 46: correct (pred=0 - test=0)\n",
      "Example 47: correct (pred=0 - test=0)\n",
      "Example 48: correct (pred=1 - test=1)\n",
      "Example 49: correct (pred=1 - test=1)\n",
      "Example 50: correct (pred=0 - test=0)\n",
      "Example 51: correct (pred=2 - test=2)\n",
      "Example 52: correct (pred=0 - test=0)\n",
      "Example 53: correct (pred=0 - test=0)\n",
      "Example 54: correct (pred=2 - test=2)\n",
      "Example 55: correct (pred=2 - test=2)\n",
      "Example 56: correct (pred=0 - test=0)\n",
      "Example 57: \u001b[1;31;47mwrong (pred=2 - test=1)\u001b[0m\n",
      "Example 58: correct (pred=0 - test=0)\n",
      "Example 59: correct (pred=2 - test=2)\n",
      "Example 60: correct (pred=0 - test=0)\n",
      "Example 61: correct (pred=1 - test=1)\n",
      "Example 62: correct (pred=2 - test=2)\n",
      "Example 63: correct (pred=1 - test=1)\n",
      "Example 64: correct (pred=2 - test=2)\n",
      "Example 65: correct (pred=1 - test=1)\n",
      "Example 66: correct (pred=1 - test=1)\n",
      "Example 67: correct (pred=1 - test=1)\n",
      "Example 68: correct (pred=0 - test=0)\n",
      "Example 69: correct (pred=1 - test=1)\n",
      "Example 70: correct (pred=1 - test=1)\n",
      "Example 71: correct (pred=2 - test=2)\n",
      "Example 72: correct (pred=1 - test=1)\n",
      "Example 73: correct (pred=0 - test=0)\n",
      "Example 74: \u001b[1;31;47mwrong (pred=2 - test=1)\u001b[0m\n"
     ]
    }
   ],
   "source": [
    "from sklearn import tree\n",
    "my_classifier = tree.DecisionTreeClassifier()\n",
    "\n",
    "# from sklearn.neighbors import KNeighborsClassifier\n",
    "# my_classifier = KNeighborsClassifier()\n",
    "# 0.90666.. accuracy (may vary)\n",
    "\n",
    "my_classifier.fit(x_train, y_train)\n",
    "\n",
    "predictions = my_classifier.predict(x_test)\n",
    "\n",
    "\n",
    "for i in range(len(y_test)):\n",
    "    print (\"Example %d: \" %i, end='')\n",
    "    if y_test[i] == predictions[i]:\n",
    "        print (\"correct (pred=%d - test=%d)\" \n",
    "              %(predictions[i], y_test[i]))\n",
    "    else:\n",
    "        print (\"\\033[1;31;47mwrong (pred=%d - test=%d)\\033[0m\" \n",
    "              %(predictions[i], y_test[i]))"
   ]
  },
  {
   "cell_type": "code",
   "execution_count": 5,
   "metadata": {},
   "outputs": [
    {
     "name": "stdout",
     "output_type": "stream",
     "text": [
      "0.96\n"
     ]
    }
   ],
   "source": [
    "from sklearn.metrics import accuracy_score\n",
    "\n",
    "print (accuracy_score(y_test, predictions))"
   ]
  }
 ],
 "metadata": {
  "kernelspec": {
   "display_name": "Python 3",
   "language": "python",
   "name": "python3"
  },
  "language_info": {
   "codemirror_mode": {
    "name": "ipython",
    "version": 3
   },
   "file_extension": ".py",
   "mimetype": "text/x-python",
   "name": "python",
   "nbconvert_exporter": "python",
   "pygments_lexer": "ipython3",
   "version": "3.6.8"
  }
 },
 "nbformat": 4,
 "nbformat_minor": 2
}
